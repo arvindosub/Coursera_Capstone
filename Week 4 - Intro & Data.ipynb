{
 "cells": [
  {
   "cell_type": "markdown",
   "metadata": {},
   "source": [
    "## Applied Data Science Capstone Project\n",
    "# Greater Toronto Area Real-Estate Price Estimation\n",
    "\n",
    "**Introduction**\n",
    "\n",
    "The problem I wish to address is the lack of objective information available to home buyers in the Greater Toronto Area (GTA) real-estate market.\n",
    "\n",
    "Purchasing a home is truly a pivotal moment, starting a new chapter in life for buyers and their families. It is also one of the most financially critical decisions we make, leaving most people in debt for the foreseeable future. As such, it is vital that home buyers are armed with as much knowledge as possible before taking the plunge, so as to ensure that their hard-earned money is invested wisely. \n",
    "\n",
    "Unfortunately, most home buyers do not have more than surface-level knowledge of the real-estate market in their cities. They go in with a handful of considerations and preferences in mind. Thereafter, they are at the mercy of real-estate listings or advertisements that are purely meant to market homes to buyers rather than provide an objective review of their value. It is also too cumbersome to trawl through hundreds of historic sales records to determine if a new listing represents fair value. As a result, most buyers succumb to the sales pitch of realtors, which could lead to overpaying and also exposes them to unnecessary risk.\n",
    "\n",
    "My project aims to address this problem using a two-step approach. First, it will provide home buyers in the GTA with an accurate price estimate for their dream home. This will be achieved by analysing real-estate sales data in the GTA for the year 2019, to obtain insights on the various considerations involved and their correlation with the sale price. The information will then be used to model a price calculator that accurately predicts home prices with customisable configurations. \n",
    "\n",
    "Second, buyers will also be equipped with information on other factors, such as crime rates and fire safety in the GTA. Such data is not readily available to home buyers and since these factors do not directly affect price, they may be even be overlooked. However, they heavily influence the physical and financial safety of buyers and their families. Therefore, being aware of the implications could make or break the decision to purchase a particular home.\n",
    "\n",
    "Armed with this knowledge, home buyers can venture into the GTA real-estate market with greater confidence and make decisions with peace of mind.\n",
    "\n",
    "**Data**\n",
    "\n",
    "Data was wrangled from five different datasets provided by various sources for this project. The datasets are as follows:\n",
    "\n",
    "1.\tReal-Estate Sales.\tCanadian law requires all real-estate companies to release their annual sales figures. The complete record of all houses sold in the GTA for 2019 is therefore available from Zoocasa, a popular real-estate listings website in Toronto. The dataset already included most of the required information such as the price, floor area, configuration, coordinates and neighbourhood of each house sold. Additional information, namely the ‘Distance from City-Centre’ and ‘Price per Square Foot’ parameters, were calculated using this existing information and appended to the dataset. Some cleaning was also required to fill-in empty values and remove unwanted data. The correlations between parameters in this dataset were primarily used to model and develop the price calculator.\n",
    "\n",
    "2.\tGTA Neighbourhoods.\tThe names and postal codes of the various Toronto neighbourhoods were scrubbed from a Wikipedia page. Their coordinates where obtained using the GeoData API. This information was then fed to the Foursquare API to obtain the ‘Nearby Venues’ dataset. In addition, a GeoJSON file demarcating the locations and area boundaries of each neighbourhood was obtained from GitHub. This was used to produce a Chloropleth Map of the GTA to provide a visual representation of the various districts in the GTA.\n",
    "\n",
    "3.\tNearby Venues.\t\tThe GTA Neighbourhoods dataset was fed to the Foursquare API using the ‘get venues/explore’ function. This returned the nearest venues for each neighbourhood within a pre-determined radius. These venues were classified according to category and the Top 3 categories for each neighbourhood were evaluated. The neighbourhoods were then clustered and plotted on the Map. This will provide buyers with an appreciation of the amenities available around their home as well as the general ‘vibe’ of the neighbourhood.\n",
    "\n",
    "4.\tCrime Rates.\t\tHistoric crime data from was obtained from the Toronto Metropolitan Police database. Data from 2019 was specifically sliced out to ensure that the crime trends observed were up-to-date. The coordinates and type of each incident were extracted from this data and used to generate a HeatMap overlaid on the Map. This will provide buyers with a visual representation of the crime hotspots and average annual crime rates in each neighbourhood.\n",
    "\n",
    "5.\tFire Incidents.\t\tHistoric fire occurrence data was obtained from the Toronto Fire Department database. Data from 2019 was specifically sliced out to ensure that the fire incident trends observed were up-to-date. The coordinates of each fire incident were extracted from this dataset and used to generate a HeatMap overlaid on the Map. This will provide buyers with a visual representation of the fire-prone areas in their neighbourhoods and also alert them to potential fire damage that might have occurred at or around a particular listing. \n",
    "\n",
    "Using this combination of datasets, I will provide buyers with both quantitative and qualitative assistance in their decision-making process."
   ]
  },
  {
   "cell_type": "code",
   "execution_count": null,
   "metadata": {},
   "outputs": [],
   "source": []
  }
 ],
 "metadata": {
  "kernelspec": {
   "display_name": "Python",
   "language": "python",
   "name": "conda-env-python-py"
  },
  "language_info": {
   "codemirror_mode": {
    "name": "ipython",
    "version": 3
   },
   "file_extension": ".py",
   "mimetype": "text/x-python",
   "name": "python",
   "nbconvert_exporter": "python",
   "pygments_lexer": "ipython3",
   "version": "3.6.10"
  }
 },
 "nbformat": 4,
 "nbformat_minor": 4
}
